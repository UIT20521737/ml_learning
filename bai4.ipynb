{
 "cells": [
  {
   "cell_type": "code",
   "execution_count": 1,
   "metadata": {},
   "outputs": [],
   "source": [
    "DATE = '11/02/2024'\n",
    "NAME = 'NGUYỄN THÀNH PHÁT'"
   ]
  },
  {
   "cell_type": "code",
   "execution_count": 2,
   "metadata": {},
   "outputs": [
    {
     "name": "stderr",
     "output_type": "stream",
     "text": [
      "C:\\Users\\Admin\\AppData\\Local\\Temp\\ipykernel_10340\\2407494877.py:2: DeprecationWarning: \n",
      "Pyarrow will become a required dependency of pandas in the next major release of pandas (pandas 3.0),\n",
      "(to allow more performant data types, such as the Arrow string type, and better interoperability with other libraries)\n",
      "but was not found to be installed on your system.\n",
      "If this would cause problems for you,\n",
      "please provide us feedback at https://github.com/pandas-dev/pandas/issues/54466\n",
      "        \n",
      "  import pandas as pd\n"
     ]
    }
   ],
   "source": [
    "import torch\n",
    "import pandas as pd\n",
    "import numpy as np"
   ]
  },
  {
   "cell_type": "markdown",
   "metadata": {},
   "source": [
    "![markdown](./image/bt3.png)"
   ]
  },
  {
   "cell_type": "code",
   "execution_count": 5,
   "metadata": {},
   "outputs": [
    {
     "name": "stdout",
     "output_type": "stream",
     "text": [
      "a: tensor([[1.],\n",
      "        [5.]], grad_fn=<MmBackward0>)\n",
      "b: tensor([-9.], grad_fn=<SqueezeBackward4>)\n",
      "e: tensor([13.], grad_fn=<SubBackward0>)\n",
      "c: tensor([169.], grad_fn=<PowBackward0>)\n",
      "dc/dx:  tensor([[ 26.],\n",
      "        [104.]])\n",
      "dc/dy:  tensor(26.)\n",
      "dc/dw1:  tensor([[-26., -52.],\n",
      "        [ 52., 104.]])\n",
      "dc/dw2:  tensor([ -26., -130.])\n"
     ]
    }
   ],
   "source": [
    "x = torch.tensor([[1.],[2.]], requires_grad=True)\n",
    "w1 = torch.tensor([[1.,0.],[1.,2.]], requires_grad=True)\n",
    "w2 = torch.tensor([1.,-2.], requires_grad=True)\n",
    "y = torch.tensor(4., requires_grad=True)\n",
    "a = w1 @ x\n",
    "print(f\"a: {a}\")\n",
    "b = w2 @ a\n",
    "print(f\"b: {b}\")\n",
    "e = y - b\n",
    "print(f\"e: {e}\")\n",
    "c = e**2\n",
    "print(f\"c: {c}\")\n",
    "c.backward()\n",
    "\n",
    "print(\"dc/dx: \", x.grad)\n",
    "print(\"dc/dy: \", y.grad)\n",
    "print(\"dc/dw1: \", w1.grad)\n",
    "print(\"dc/dw2: \", w2.grad)\n",
    "\n"
   ]
  }
 ],
 "metadata": {
  "kernelspec": {
   "display_name": "venv",
   "language": "python",
   "name": "python3"
  },
  "language_info": {
   "codemirror_mode": {
    "name": "ipython",
    "version": 3
   },
   "file_extension": ".py",
   "mimetype": "text/x-python",
   "name": "python",
   "nbconvert_exporter": "python",
   "pygments_lexer": "ipython3",
   "version": "3.11.6"
  }
 },
 "nbformat": 4,
 "nbformat_minor": 2
}
